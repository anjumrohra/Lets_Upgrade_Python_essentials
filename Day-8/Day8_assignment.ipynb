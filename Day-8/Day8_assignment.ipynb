{
 "cells": [
  {
   "cell_type": "markdown",
   "metadata": {},
   "source": [
    "# Question 1\n",
    "Write a decorator function for taking your input for any kind of function you want to build.\n",
    "\n",
    "For example - You make a fibonacci series function,in which your input range is been defined by\n",
    "              the decorator program input."
   ]
  },
  {
   "cell_type": "code",
   "execution_count": 5,
   "metadata": {},
   "outputs": [],
   "source": [
    "def Tabular_input(func):\n",
    "    def inputs(a,b):\n",
    "        print(\"Enter any number of your choice: \")\n",
    "        a = int(input())\n",
    "        func(a,b)\n",
    "    return inputs"
   ]
  },
  {
   "cell_type": "code",
   "execution_count": 6,
   "metadata": {},
   "outputs": [
    {
     "name": "stdout",
     "output_type": "stream",
     "text": [
      "Enter any number of your choice: \n",
      "4\n",
      "4 * 1 = 4\n",
      "4 * 2 = 8\n",
      "4 * 3 = 12\n",
      "4 * 4 = 16\n",
      "4 * 5 = 20\n",
      "4 * 6 = 24\n",
      "4 * 7 = 28\n",
      "4 * 8 = 32\n",
      "4 * 9 = 36\n",
      "4 * 10 = 40\n",
      "4 * 11 = 44\n",
      "4 * 12 = 48\n",
      "4 * 13 = 52\n",
      "4 * 14 = 56\n",
      "4 * 15 = 60\n",
      "4 * 16 = 64\n",
      "4 * 17 = 68\n",
      "4 * 18 = 72\n",
      "4 * 19 = 76\n",
      "4 * 20 = 80\n"
     ]
    }
   ],
   "source": [
    "@Tabular_input\n",
    "def Table(a,b):\n",
    "    for b in range(1,21):\n",
    "        print(\"{} * {} = {}\".format(str(a),str(b),str(a*b)))\n",
    "        \n",
    "Table(2,3)\n"
   ]
  },
  {
   "cell_type": "markdown",
   "metadata": {},
   "source": [
    "# Question 2\n",
    "Develop a Python program to open a file in read only mode and try writing something to it and handle the subsequent errors using Exception Handling."
   ]
  },
  {
   "cell_type": "code",
   "execution_count": 7,
   "metadata": {},
   "outputs": [
    {
     "name": "stdout",
     "output_type": "stream",
     "text": [
      "not writable\n",
      "This statement will execute no matter what!\n"
     ]
    }
   ],
   "source": [
    "try:\n",
    "    file = open(\"sample.txt\",'r')\n",
    "    file.write(\"Everything you've ever wanted is on the other side of fear\")\n",
    "    file.close()\n",
    "    print(\"Done!!\")\n",
    "except Exception as e:\n",
    "    print(e)\n",
    "finally:\n",
    "    print(\"This statement will execute no matter what!\")\n",
    "    "
   ]
  }
 ],
 "metadata": {
  "kernelspec": {
   "display_name": "Python 3",
   "language": "python",
   "name": "python3"
  },
  "language_info": {
   "codemirror_mode": {
    "name": "ipython",
    "version": 3
   },
   "file_extension": ".py",
   "mimetype": "text/x-python",
   "name": "python",
   "nbconvert_exporter": "python",
   "pygments_lexer": "ipython3",
   "version": "3.6.8"
  }
 },
 "nbformat": 4,
 "nbformat_minor": 2
}
